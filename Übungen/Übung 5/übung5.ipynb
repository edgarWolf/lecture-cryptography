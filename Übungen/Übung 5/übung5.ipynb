{
 "cells": [
  {
   "cell_type": "code",
   "execution_count": 1,
   "metadata": {},
   "outputs": [],
   "source": [
    "import string\n",
    "import numpy as np"
   ]
  },
  {
   "cell_type": "code",
   "execution_count": 51,
   "metadata": {},
   "outputs": [
    {
     "data": {
      "text/plain": [
       "'abcdefghijklmnopqrstuvwxyzäöü'"
      ]
     },
     "execution_count": 51,
     "metadata": {},
     "output_type": "execute_result"
    }
   ],
   "source": [
    "m = 29\n",
    "alphabet = string.ascii_lowercase + \"äöü\"\n",
    "alphabet"
   ]
  },
  {
   "cell_type": "code",
   "execution_count": 53,
   "metadata": {},
   "outputs": [],
   "source": [
    "def convert_char_to_indcies(elements):\n",
    "    result = []\n",
    "    for element in elements:\n",
    "        current_indices = []\n",
    "        for char in element:\n",
    "            index = alphabet.find(char)\n",
    "            current_indices.append(index)\n",
    "        result.append(current_indices)\n",
    "    return result\n",
    "\n",
    "def get_word_diff_vector(w0, elements):\n",
    "    result = []\n",
    "    for i in range(len(elements)):\n",
    "        w0i = w0[i]\n",
    "        element = elements[i]\n",
    "        diff = (element - w0i) % m\n",
    "        result.append(diff)\n",
    "    return result\n",
    "\n",
    "def convert_indices_to_string(indices):\n",
    "    result = \"\"\n",
    "    for index in indices:\n",
    "        current_char = alphabet[index]\n",
    "        result += current_char\n",
    "    return result"
   ]
  },
  {
   "cell_type": "code",
   "execution_count": 4,
   "metadata": {},
   "outputs": [],
   "source": [
    "words = [\"nase\", \"hase\", \"wick\", \"wack\", \"fupp\"]\n",
    "chiffres = [\"hezg\", \"hlzr\", \"lfbb\", \"nftb\", \"nkäf\"]"
   ]
  },
  {
   "cell_type": "code",
   "execution_count": 54,
   "metadata": {},
   "outputs": [
    {
     "data": {
      "text/plain": [
       "[[13, 0, 18, 4],\n",
       " [7, 0, 18, 4],\n",
       " [22, 8, 2, 10],\n",
       " [22, 0, 2, 10],\n",
       " [5, 20, 15, 15]]"
      ]
     },
     "execution_count": 54,
     "metadata": {},
     "output_type": "execute_result"
    }
   ],
   "source": [
    "word_indices = convert_char_to_indcies(words)\n",
    "chiffre_indices = convert_char_to_indcies(chiffres)\n",
    "\n",
    "word_indices"
   ]
  },
  {
   "cell_type": "code",
   "execution_count": 108,
   "metadata": {},
   "outputs": [
    {
     "data": {
      "text/plain": [
       "[[7, 4, 25, 6],\n",
       " [7, 11, 25, 17],\n",
       " [11, 5, 1, 1],\n",
       " [13, 5, 19, 1],\n",
       " [13, 10, 26, 5]]"
      ]
     },
     "execution_count": 108,
     "metadata": {},
     "output_type": "execute_result"
    }
   ],
   "source": [
    "chiffre_indices"
   ]
  },
  {
   "cell_type": "code",
   "execution_count": 55,
   "metadata": {},
   "outputs": [
    {
     "data": {
      "text/plain": [
       "[[23, 0, 0, 0], [9, 8, 13, 6], [9, 0, 13, 6], [21, 20, 26, 11]]"
      ]
     },
     "execution_count": 55,
     "metadata": {},
     "output_type": "execute_result"
    }
   ],
   "source": [
    "w0 = word_indices[0]\n",
    "W = []\n",
    "for word_index in word_indices[1:]:\n",
    "    W.append(get_word_diff_vector(w0, word_index))\n",
    "\n",
    "c0 = chiffre_indices[0]\n",
    "C = []\n",
    "for chiffre_index in chiffre_indices[1:]:\n",
    "    C.append(get_word_diff_vector(c0, chiffre_index))\n",
    "\n",
    "W"
   ]
  },
  {
   "cell_type": "code",
   "execution_count": 109,
   "metadata": {},
   "outputs": [
    {
     "data": {
      "text/plain": [
       "[[0, 7, 0, 11], [4, 1, 5, 24], [6, 1, 23, 24], [6, 6, 1, 28]]"
      ]
     },
     "execution_count": 109,
     "metadata": {},
     "output_type": "execute_result"
    }
   ],
   "source": [
    "C"
   ]
  },
  {
   "cell_type": "code",
   "execution_count": 73,
   "metadata": {},
   "outputs": [
    {
     "data": {
      "text/plain": [
       "array([[23,  9,  9, 21],\n",
       "       [ 0,  8,  0, 20],\n",
       "       [ 0, 13, 13, 26],\n",
       "       [ 0,  6,  6, 11]])"
      ]
     },
     "execution_count": 73,
     "metadata": {},
     "output_type": "execute_result"
    }
   ],
   "source": [
    "np_W = np.array(W).T\n",
    "np_W"
   ]
  },
  {
   "cell_type": "code",
   "execution_count": 82,
   "metadata": {},
   "outputs": [
    {
     "data": {
      "text/plain": [
       "array([[ 0,  4,  6,  6],\n",
       "       [ 7,  1,  1,  6],\n",
       "       [ 0,  5, 23,  1],\n",
       "       [11, 24, 24, 28]])"
      ]
     },
     "execution_count": 82,
     "metadata": {},
     "output_type": "execute_result"
    }
   ],
   "source": [
    "np_C = np.array(C).T\n",
    "np_C"
   ]
  },
  {
   "cell_type": "code",
   "execution_count": 110,
   "metadata": {},
   "outputs": [
    {
     "data": {
      "text/plain": [
       "15"
      ]
     },
     "execution_count": 110,
     "metadata": {},
     "output_type": "execute_result"
    }
   ],
   "source": [
    "det_W = int(np.round(np.linalg.det(np_W) % m))\n",
    "det_W"
   ]
  },
  {
   "cell_type": "code",
   "execution_count": 112,
   "metadata": {},
   "outputs": [],
   "source": [
    "def minor_det(matrix, i, j):\n",
    "    sub_matrix = np.delete(matrix, i-1, 0)\n",
    "    sub_matrix = np.delete(sub_matrix, j-1, 1)\n",
    "    det = np.linalg.det(sub_matrix)\n",
    "    return np.round(det)\n",
    "\n",
    "\n",
    "def get_adjugate(matrix):\n",
    "    shape = matrix.shape\n",
    "    cofactor_matrix = np.zeros(shape)\n",
    "    for i in range(1, shape[0]+1):\n",
    "        for j in range(1, shape[0]+1):\n",
    "            cofactor_matrix[i-1][j-1] = ((-1)**(i+j)*minor_det(matrix,i,j))\n",
    "    return cofactor_matrix.T\n",
    "    \n"
   ]
  },
  {
   "cell_type": "code",
   "execution_count": 114,
   "metadata": {},
   "outputs": [
    {
     "data": {
      "text/plain": [
       "array([[12,  0, 13,  7],\n",
       "       [ 0, 20,  5, 23],\n",
       "       [ 0,  9, 18,  7],\n",
       "       [ 0,  0, 27, 14]])"
      ]
     },
     "execution_count": 114,
     "metadata": {},
     "output_type": "execute_result"
    }
   ],
   "source": [
    "# Aus voriger Zelle klar\n",
    "inv_det_W  = 2\n",
    "adj = get_adjugate(np_W).astype(int) % m\n",
    "adj"
   ]
  },
  {
   "cell_type": "code",
   "execution_count": 117,
   "metadata": {},
   "outputs": [
    {
     "data": {
      "text/plain": [
       "array([[ 0,  7,  0,  1],\n",
       "       [23,  0,  1,  7],\n",
       "       [ 0,  5,  4,  0],\n",
       "       [ 3,  0,  2,  0]])"
      ]
     },
     "execution_count": 117,
     "metadata": {},
     "output_type": "execute_result"
    }
   ],
   "source": [
    "adjDet = (inv_det_W * adj) % m\n",
    "A = np.matmul(np_C, adjDet) % m\n",
    "A"
   ]
  },
  {
   "cell_type": "code",
   "execution_count": 118,
   "metadata": {},
   "outputs": [
    {
     "data": {
      "text/plain": [
       "array([ 3,  7, 11, 18])"
      ]
     },
     "execution_count": 118,
     "metadata": {},
     "output_type": "execute_result"
    }
   ],
   "source": [
    "b = (c0 - np.matmul(A, w0)) % m\n",
    "b"
   ]
  },
  {
   "cell_type": "code",
   "execution_count": 104,
   "metadata": {},
   "outputs": [
    {
     "data": {
      "text/plain": [
       "(array([[ 0,  7,  0,  1],\n",
       "        [23,  0,  1,  7],\n",
       "        [ 0,  5,  4,  0],\n",
       "        [ 3,  0,  2,  0]]),\n",
       " array([ 3,  7, 11, 18]))"
      ]
     },
     "execution_count": 104,
     "metadata": {},
     "output_type": "execute_result"
    }
   ],
   "source": [
    "k = (A,b)\n",
    "k"
   ]
  },
  {
   "cell_type": "code",
   "execution_count": 119,
   "metadata": {},
   "outputs": [
    {
     "data": {
      "text/plain": [
       "[21, 23, 5, 4]"
      ]
     },
     "execution_count": 119,
     "metadata": {},
     "output_type": "execute_result"
    }
   ],
   "source": [
    "chiffre = \"vxfe\"\n",
    "chiffre_conv = convert_char_to_indcies(chiffre)\n",
    "chiffre_conv = [value for sublist in chiffre_conv for value in sublist]\n",
    "chiffre_conv\n"
   ]
  },
  {
   "cell_type": "markdown",
   "metadata": {},
   "source": [
    "# b)\n",
    "Klartext = \"vxfe\"\n",
    "\n",
    "- Inverse von A berechnen\n",
    "- Entschlüsselungsfunktion mit $ A^{-1} $ anwenden"
   ]
  },
  {
   "cell_type": "code",
   "execution_count": 123,
   "metadata": {},
   "outputs": [
    {
     "data": {
      "text/plain": [
       "25"
      ]
     },
     "execution_count": 123,
     "metadata": {},
     "output_type": "execute_result"
    }
   ],
   "source": [
    "detA = int(np.round(np.linalg.det(A))) % m\n",
    "detA"
   ]
  },
  {
   "cell_type": "code",
   "execution_count": 124,
   "metadata": {},
   "outputs": [
    {
     "data": {
      "text/plain": [
       "1"
      ]
     },
     "execution_count": 124,
     "metadata": {},
     "output_type": "execute_result"
    }
   ],
   "source": [
    "inv_det_A = 7\n",
    "(detA * inv_det_A) % m"
   ]
  },
  {
   "cell_type": "code",
   "execution_count": 126,
   "metadata": {},
   "outputs": [
    {
     "data": {
      "text/plain": [
       "array([[12, 19, 18, 27],\n",
       "       [26, 17, 15,  5],\n",
       "       [11, 15,  2,  1],\n",
       "       [17, 26, 11, 23]])"
      ]
     },
     "execution_count": 126,
     "metadata": {},
     "output_type": "execute_result"
    }
   ],
   "source": [
    "adjA = get_adjugate(A).astype(int) % m\n",
    "adjA"
   ]
  },
  {
   "cell_type": "code",
   "execution_count": 129,
   "metadata": {},
   "outputs": [
    {
     "data": {
      "text/plain": [
       "array([[26, 17, 10, 15],\n",
       "       [ 8,  3, 18,  6],\n",
       "       [19, 18, 14,  7],\n",
       "       [ 3,  8, 19, 16]])"
      ]
     },
     "execution_count": 129,
     "metadata": {},
     "output_type": "execute_result"
    }
   ],
   "source": [
    "invA = (inv_det_A * adjA) % m\n",
    "invA\n"
   ]
  },
  {
   "cell_type": "code",
   "execution_count": 142,
   "metadata": {},
   "outputs": [
    {
     "data": {
      "text/plain": [
       "'gans'"
      ]
     },
     "execution_count": 142,
     "metadata": {},
     "output_type": "execute_result"
    }
   ],
   "source": [
    "plain_text = np.matmul(invA, (chiffre_conv - b)) % m\n",
    "plain_text = convert_indices_to_string(plain_text)\n",
    "plain_text\n"
   ]
  }
 ],
 "metadata": {
  "interpreter": {
   "hash": "694a9dfeccd2ddb8843df4ce1f1609feedf1a4a84b95446e18a965a9beddbfdf"
  },
  "kernelspec": {
   "display_name": "Python 3.9.7 64-bit ('env_study': conda)",
   "language": "python",
   "name": "python3"
  },
  "language_info": {
   "codemirror_mode": {
    "name": "ipython",
    "version": 3
   },
   "file_extension": ".py",
   "mimetype": "text/x-python",
   "name": "python",
   "nbconvert_exporter": "python",
   "pygments_lexer": "ipython3",
   "version": "3.9.7"
  },
  "orig_nbformat": 4
 },
 "nbformat": 4,
 "nbformat_minor": 2
}
