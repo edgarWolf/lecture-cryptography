{
 "cells": [
  {
   "cell_type": "code",
   "execution_count": 1,
   "id": "e62561a2",
   "metadata": {},
   "outputs": [],
   "source": [
    "import numpy as np\n",
    "import math\n",
    "import random"
   ]
  },
  {
   "cell_type": "markdown",
   "id": "ca876498",
   "metadata": {},
   "source": [
    "# Hilfsfunktionen:"
   ]
  },
  {
   "cell_type": "code",
   "execution_count": 2,
   "id": "58881d6f",
   "metadata": {},
   "outputs": [],
   "source": [
    "def sqm(x, y, m):\n",
    "    if y == 0:\n",
    "        return 1\n",
    "    if y % 2 != 0:\n",
    "        a = sqm(x, y-1, m)\n",
    "        return (a * x) % m\n",
    "    if y % 2 == 0:\n",
    "        a = sqm(x, y/2, m)\n",
    "        return (a * a) % m"
   ]
  },
  {
   "cell_type": "code",
   "execution_count": 3,
   "id": "1663bb11",
   "metadata": {},
   "outputs": [],
   "source": [
    "def eea(a, b):\n",
    "    if b == 0:\n",
    "        return (a, 1, 0)\n",
    "    else:\n",
    "        (ggt, other_a, other_b) = eea(b, a % b)\n",
    "        return (ggt, other_b, other_a - (other_b * int((a / b))))"
   ]
  },
  {
   "cell_type": "code",
   "execution_count": 4,
   "id": "f5d89192",
   "metadata": {},
   "outputs": [],
   "source": [
    "def get_inverse(number, mod):\n",
    "    for i in range(mod):\n",
    "        current_value = (number * i) % mod\n",
    "        if current_value == 1:\n",
    "            return i\n",
    "    # -1 als Error wert\n",
    "    return -1"
   ]
  },
  {
   "cell_type": "code",
   "execution_count": 5,
   "id": "e5c4693b",
   "metadata": {},
   "outputs": [],
   "source": [
    "def is_prime(x):\n",
    "    if x == 0 or x == 1: return False\n",
    "    if x == 2: return True\n",
    "    sqrt_x = math.floor(math.sqrt(x))\n",
    "    for i in range(3, sqrt_x + 1, 2):\n",
    "        if x % i == 0:\n",
    "            return False\n",
    "    return True"
   ]
  },
  {
   "cell_type": "markdown",
   "id": "7e8ee6f7",
   "metadata": {},
   "source": [
    "# 1.)\n",
    "Es seien die Primzahlen $p := 43$ und $q := 67$ gegeben."
   ]
  },
  {
   "cell_type": "markdown",
   "id": "42111b10",
   "metadata": {},
   "source": [
    "## a ) Berechnen eines RSA-Schlüsselpaares"
   ]
  },
  {
   "cell_type": "code",
   "execution_count": 6,
   "id": "4603a5c1",
   "metadata": {},
   "outputs": [
    {
     "data": {
      "text/plain": [
       "2881"
      ]
     },
     "execution_count": 6,
     "metadata": {},
     "output_type": "execute_result"
    }
   ],
   "source": [
    "p = 43\n",
    "q = 67\n",
    "n = p * q\n",
    "n"
   ]
  },
  {
   "cell_type": "code",
   "execution_count": 7,
   "id": "2c524629",
   "metadata": {},
   "outputs": [
    {
     "data": {
      "text/plain": [
       "2772"
      ]
     },
     "execution_count": 7,
     "metadata": {},
     "output_type": "execute_result"
    }
   ],
   "source": [
    "phi_n = (p-1)*(q-1)\n",
    "phi_n"
   ]
  },
  {
   "cell_type": "code",
   "execution_count": 8,
   "id": "a51e483e",
   "metadata": {},
   "outputs": [
    {
     "data": {
      "text/plain": [
       "1109"
      ]
     },
     "execution_count": 8,
     "metadata": {},
     "output_type": "execute_result"
    }
   ],
   "source": [
    "a = 5 # ggt(5, phi_n) = 1\n",
    "b = get_inverse(a, phi_n)\n",
    "b"
   ]
  },
  {
   "cell_type": "code",
   "execution_count": 9,
   "id": "595e1234",
   "metadata": {},
   "outputs": [
    {
     "data": {
      "text/plain": [
       "((2881, 5), (2881, 1109))"
      ]
     },
     "execution_count": 9,
     "metadata": {},
     "output_type": "execute_result"
    }
   ],
   "source": [
    "pub_key = (n, a)\n",
    "priv_key = (n, b)\n",
    "pub_key, priv_key"
   ]
  },
  {
   "cell_type": "markdown",
   "id": "c46a417c",
   "metadata": {},
   "source": [
    "## b) Entschlüsseln von $m = 2000$ mit dem Schlüsselpaar aus a)"
   ]
  },
  {
   "cell_type": "code",
   "execution_count": 10,
   "id": "580e77fb",
   "metadata": {},
   "outputs": [
    {
     "data": {
      "text/plain": [
       "1974"
      ]
     },
     "execution_count": 10,
     "metadata": {},
     "output_type": "execute_result"
    }
   ],
   "source": [
    "m = 2000\n",
    "c = sqm(m, a, n)\n",
    "c"
   ]
  },
  {
   "cell_type": "markdown",
   "id": "9686c5eb",
   "metadata": {},
   "source": [
    "Kontrolle:"
   ]
  },
  {
   "cell_type": "code",
   "execution_count": 11,
   "id": "8f561503",
   "metadata": {},
   "outputs": [
    {
     "data": {
      "text/plain": [
       "True"
      ]
     },
     "execution_count": 11,
     "metadata": {},
     "output_type": "execute_result"
    }
   ],
   "source": [
    "checked_m = sqm(c, b, n)\n",
    "checked_m == m"
   ]
  },
  {
   "cell_type": "markdown",
   "id": "94a5efdd",
   "metadata": {},
   "source": [
    "# 2.)\n",
    "Es seien folgende Zahlen gegeben:\n",
    "\n",
    "\\begin{align*}\n",
    "a_1 &= 100 \\quad &m_1 &= 33 \\\\\n",
    "a_2 &= 16 \\quad &m_2 &= 91 \\\\\n",
    "a_3 &= 101 \\quad &m_3 &= 41 \\\\\n",
    "a_4 &= 42 \\quad &m_4 &= 38 \\\\\n",
    "\\end{align*}\n",
    "\n",
    "Und zusätzlich $n = 4678674$."
   ]
  },
  {
   "cell_type": "markdown",
   "id": "ff4b25d5",
   "metadata": {},
   "source": [
    "## a) Primfaktorzerlegung aller $m_i$ und $n$."
   ]
  },
  {
   "cell_type": "code",
   "execution_count": 12,
   "id": "66943329",
   "metadata": {},
   "outputs": [],
   "source": [
    "a = np.array([100, 16, 101, 42])\n",
    "m = np.array([33, 91, 41, 38])\n",
    "n = 4678674"
   ]
  },
  {
   "cell_type": "code",
   "execution_count": 13,
   "id": "e1787a71",
   "metadata": {},
   "outputs": [],
   "source": [
    "def get_divisors(num):\n",
    "    divisors = [1, num]\n",
    "    sqrt_num = math.floor(math.sqrt(num))\n",
    "    for i in range(2, sqrt_num + 1):\n",
    "        if num % i == 0:\n",
    "            divisors.append(i)\n",
    "\n",
    "    remaining_divisors = [int(num /divisor) for divisor in divisors if int(num / divisor) not in divisors]\n",
    "    divisors.extend(remaining_divisors)\n",
    "    divisors = sorted(divisors)\n",
    "    return divisors"
   ]
  },
  {
   "cell_type": "code",
   "execution_count": 14,
   "id": "77627401",
   "metadata": {},
   "outputs": [
    {
     "name": "stdout",
     "output_type": "stream",
     "text": [
      "Divisors for 33: [1, 3, 11, 33]\n",
      "Prime factorization = 3*11\n",
      "\n",
      "Divisors for 91: [1, 7, 13, 91]\n",
      "Prime factorization = 7*13\n",
      "\n",
      "Divisors for 41: [1, 41]\n",
      "Prime factorization = 41\n",
      "\n",
      "Divisors for 38: [1, 2, 19, 38]\n",
      "Prime factorization = 2*19\n",
      "\n"
     ]
    }
   ],
   "source": [
    "for value in m:\n",
    "    divisors = get_divisors(value)\n",
    "    print(\"Divisors for {}: {}\".format(value, divisors))\n",
    "    divisors.remove(1)\n",
    "    divisors.remove(value)\n",
    "    prime_factorization = \"*\".join(list(map(str, divisors)))\n",
    "    if not prime_factorization: prime_factorization = str(value)\n",
    "    print(\"Prime factorization = \" + prime_factorization + \"\\n\")\n",
    "\n",
    "# Die Primfaktor zerlegung ergibt sich als das Produkt all der oberen Primfaktorzerlegungen, \n",
    "# denn alle mi sind zu allen mj, i != j teilerfremd."
   ]
  },
  {
   "cell_type": "markdown",
   "id": "297ba982",
   "metadata": {},
   "source": [
    "## b) Bestimmen einer Zahl $ x \\in \\{0, ..., n-1\\}$, sodass $x \\equiv a_i \\mod m_i$ für $1 \\leq i \\leq 4$ gilt. "
   ]
  },
  {
   "cell_type": "code",
   "execution_count": 15,
   "id": "6e56fd2e",
   "metadata": {},
   "outputs": [
    {
     "data": {
      "text/plain": [
       "array([141778,  51414, 114114, 123123])"
      ]
     },
     "execution_count": 15,
     "metadata": {},
     "output_type": "execute_result"
    }
   ],
   "source": [
    "div_m = np.array([int(n / m[i]) for i in range(m.size)])\n",
    "div_m"
   ]
  },
  {
   "cell_type": "code",
   "execution_count": 16,
   "id": "65ac7d14",
   "metadata": {},
   "outputs": [
    {
     "data": {
      "text/plain": [
       "array([10, 90, 15, 13])"
      ]
     },
     "execution_count": 16,
     "metadata": {},
     "output_type": "execute_result"
    }
   ],
   "source": [
    "r = np.array([eea(div_m[i], m[i])[1] % m[i] for i in range(div_m.size)])\n",
    "r"
   ]
  },
  {
   "cell_type": "code",
   "execution_count": 17,
   "id": "d9e7d6c1",
   "metadata": {},
   "outputs": [],
   "source": [
    "def chinese_div(r, div_m, a, n):\n",
    "    sum = 0\n",
    "    for i in range(r.size):\n",
    "        sum += a[i] * div_m[i] * r[i]\n",
    "    return sum % n"
   ]
  },
  {
   "cell_type": "code",
   "execution_count": 18,
   "id": "99ccb9c2",
   "metadata": {},
   "outputs": [
    {
     "data": {
      "text/plain": [
       "2090650"
      ]
     },
     "execution_count": 18,
     "metadata": {},
     "output_type": "execute_result"
    }
   ],
   "source": [
    "x = chinese_div(r, div_m, a, n)\n",
    "x"
   ]
  },
  {
   "cell_type": "code",
   "execution_count": 19,
   "id": "27fd124f",
   "metadata": {},
   "outputs": [],
   "source": [
    "def check_x(a, m, x):\n",
    "    for i in range(len(a)):\n",
    "        lhs = a[i] % m[i]\n",
    "        rhs = x % m[i]\n",
    "        if lhs != rhs:\n",
    "            return False\n",
    "    return True\n",
    "        "
   ]
  },
  {
   "cell_type": "code",
   "execution_count": 20,
   "id": "1d29204c",
   "metadata": {},
   "outputs": [
    {
     "data": {
      "text/plain": [
       "True"
      ]
     },
     "execution_count": 20,
     "metadata": {},
     "output_type": "execute_result"
    }
   ],
   "source": [
    "check_x(a, m, x)"
   ]
  },
  {
   "cell_type": "markdown",
   "id": "c909623a",
   "metadata": {},
   "source": [
    "## c) Angeben eines folgenden Gruppenhomomorphismus\n",
    "\n",
    "Gruppenismorphismus mit\n",
    "$$\n",
    "\\mathbb{Z}_n^* \\rightarrow (\\mathbb{Z}_{m_1}^* \\times \\mathbb{Z}_{m_2}^* \\times \\mathbb{Z}_{m_3}^* \\times \\mathbb{Z}_{m_4}^*)\n",
    "$$\n",
    "\n",
    "$$\n",
    "\\Rightarrow g_1(x) := \\left(x \\mod m_1, x \\mod m_2, x \\mod m_3, x \\mod m_4\\right) \\\\\n",
    "$$\n",
    "\n",
    "Beweis:\n",
    "$$\n",
    "g_1(x, y) = ((x \\cdot y) \\mod m_1, ... ) = (x \\mod m_1, ...) (y \\mod m_1, ...) = g_1(x) \\cdot g_1(y)\n",
    "$$\n",
    "\n",
    "Isomorph, denn der hier verwendete chinesische Restsatz liefert *genau* eine Zahl $ x $. Damit ist eine Bijektion gegeben und folglich ein Isomorphismus."
   ]
  },
  {
   "cell_type": "markdown",
   "id": "58b76f0e",
   "metadata": {},
   "source": [
    "## d) Berechnen von $125^{10} \\mod n$ unter Verwendung von 8-Bit Zahlen, mit Ausnahme von internen Zahlen des chinesischen Restsatzes."
   ]
  },
  {
   "cell_type": "code",
   "execution_count": 21,
   "id": "fa8e163d",
   "metadata": {},
   "outputs": [
    {
     "data": {
      "text/plain": [
       "array([26, 34,  2, 11])"
      ]
     },
     "execution_count": 21,
     "metadata": {},
     "output_type": "execute_result"
    }
   ],
   "source": [
    "g1 = np.array([125 % m[i] for i  in range(m.size)])\n",
    "g1"
   ]
  },
  {
   "cell_type": "code",
   "execution_count": 22,
   "id": "7be30ce7",
   "metadata": {},
   "outputs": [
    {
     "data": {
      "text/plain": [
       "array([ 1, 64, 40, 11])"
      ]
     },
     "execution_count": 22,
     "metadata": {},
     "output_type": "execute_result"
    }
   ],
   "source": [
    "g1_sqm = np.array([sqm(g1[i], 10, m[i]) for i  in range(g1.size)])\n",
    "g1_sqm"
   ]
  },
  {
   "cell_type": "code",
   "execution_count": 23,
   "id": "9ab2386f",
   "metadata": {},
   "outputs": [
    {
     "data": {
      "text/plain": [
       "4664815"
      ]
     },
     "execution_count": 23,
     "metadata": {},
     "output_type": "execute_result"
    }
   ],
   "source": [
    "c_solution = chinese_div(r, div_m, g1_sqm, n)\n",
    "c_solution"
   ]
  },
  {
   "cell_type": "code",
   "execution_count": 24,
   "id": "29b16963",
   "metadata": {},
   "outputs": [
    {
     "data": {
      "text/plain": [
       "True"
      ]
     },
     "execution_count": 24,
     "metadata": {},
     "output_type": "execute_result"
    }
   ],
   "source": [
    "125**10 % n == c_solution"
   ]
  },
  {
   "cell_type": "code",
   "execution_count": 25,
   "id": "b7716864",
   "metadata": {},
   "outputs": [
    {
     "data": {
      "text/plain": [
       "True"
      ]
     },
     "execution_count": 25,
     "metadata": {},
     "output_type": "execute_result"
    }
   ],
   "source": [
    "check_x(g1_sqm, m, c_solution)"
   ]
  },
  {
   "cell_type": "markdown",
   "id": "1c2495c7",
   "metadata": {},
   "source": [
    "## e) Angeben eines folgenden Gruppenisomorphismus"
   ]
  },
  {
   "cell_type": "markdown",
   "id": "e4d9452a",
   "metadata": {},
   "source": [
    "$n = \\prod_{i=1}^k p_i$ sei die Primfaktorzerlegung von $n$. Gesucht ist ein folgender Isomorphismus.\n",
    "$$\n",
    "\\mathbb{Z}_n^* \\rightarrow (\\mathbb{Z}_{p_1}^* \\times ... \\times \\mathbb{Z}_{p_k}^*)\n",
    "$$\n",
    "Wir setzen also statt $m_i, 1 \\leq i \\leq 4$ alle $p_i$ ein, die die Primakfakorzerlegung von $n$ darstellen.\n",
    "\n",
    "$$\n",
    "\\Rightarrow g_2(x) := \\left(x \\mod p_1, ... , x  \\mod p_2\\right)\n",
    "$$\n",
    "\n",
    "Beweis: \n",
    "$$\n",
    "g_2(x, y) = ((x \\cdot y) \\mod p_1 ...) = (x \\mod p_1, ...)(y \\mod p_1, ...) = g_2(x) \\cdot g_2(y)\n",
    "$$\n",
    "\n",
    "Wir argumentieren hier also analog zum Ismorphismus $g_1$, auch bezüglich der Eigeschaft der Bijektivität."
   ]
  },
  {
   "cell_type": "markdown",
   "id": "3b6c3d9d",
   "metadata": {},
   "source": [
    "## Berechnen von $125^{10} \\mod n$ mithilfe von $g_2$"
   ]
  },
  {
   "cell_type": "code",
   "execution_count": 26,
   "id": "c19db6f5",
   "metadata": {},
   "outputs": [
    {
     "data": {
      "text/plain": [
       "array([ 3, 11,  7, 13, 41,  2, 19])"
      ]
     },
     "execution_count": 26,
     "metadata": {},
     "output_type": "execute_result"
    }
   ],
   "source": [
    "p = [get_divisors(value) for value in m]\n",
    "p = np.array([div for div_list in p for div in div_list if is_prime(div)])\n",
    "p"
   ]
  },
  {
   "cell_type": "code",
   "execution_count": 27,
   "id": "1da60e1a",
   "metadata": {},
   "outputs": [
    {
     "data": {
      "text/plain": [
       "array([1559558,  425334,  668382,  359898,  114114, 2339337,  246246])"
      ]
     },
     "execution_count": 27,
     "metadata": {},
     "output_type": "execute_result"
    }
   ],
   "source": [
    "div_p = np.array([int(n / p[i]) for i in range(p.size)])\n",
    "div_p"
   ]
  },
  {
   "cell_type": "code",
   "execution_count": 28,
   "id": "6a5d13a2",
   "metadata": {},
   "outputs": [
    {
     "data": {
      "text/plain": [
       "array([ 2,  7,  1, 11, 15,  1, 16])"
      ]
     },
     "execution_count": 28,
     "metadata": {},
     "output_type": "execute_result"
    }
   ],
   "source": [
    "r_p = np.array([eea(div_p[i], p[i])[1] % p[i] for i in range(div_p.size)])\n",
    "r_p"
   ]
  },
  {
   "cell_type": "code",
   "execution_count": 29,
   "id": "da783de7",
   "metadata": {},
   "outputs": [
    {
     "data": {
      "text/plain": [
       "array([ 2,  4,  6,  8,  2,  1, 11])"
      ]
     },
     "execution_count": 29,
     "metadata": {},
     "output_type": "execute_result"
    }
   ],
   "source": [
    "g2 = np.array([125 % p[i] for i  in range(p.size)])\n",
    "g2"
   ]
  },
  {
   "cell_type": "code",
   "execution_count": 30,
   "id": "d5b41e29",
   "metadata": {},
   "outputs": [
    {
     "data": {
      "text/plain": [
       "array([ 1,  1,  1, 12, 40,  1, 11])"
      ]
     },
     "execution_count": 30,
     "metadata": {},
     "output_type": "execute_result"
    }
   ],
   "source": [
    "g2_sqm = np.array([sqm(g2[i], 10, p[i]) for i  in range(g2.size)])\n",
    "g2_sqm"
   ]
  },
  {
   "cell_type": "code",
   "execution_count": 31,
   "id": "0ea1ac61",
   "metadata": {},
   "outputs": [
    {
     "data": {
      "text/plain": [
       "4664815"
      ]
     },
     "execution_count": 31,
     "metadata": {},
     "output_type": "execute_result"
    }
   ],
   "source": [
    "g2_solution = chinese_div(r_p, div_p, g2_sqm, n)\n",
    "g2_solution"
   ]
  },
  {
   "cell_type": "code",
   "execution_count": 32,
   "id": "fd4d544f",
   "metadata": {},
   "outputs": [
    {
     "data": {
      "text/plain": [
       "True"
      ]
     },
     "execution_count": 32,
     "metadata": {},
     "output_type": "execute_result"
    }
   ],
   "source": [
    "check_x(g2_sqm, p, c_solution)"
   ]
  },
  {
   "cell_type": "markdown",
   "id": "09727922",
   "metadata": {},
   "source": [
    "## Bestimmen von Zahlen $q_1, ..., q_k$, sodass $q_i \\equiv x \\mod p_i$ für alle $i \\in \\{1, ..., k\\}$ und dem $x$ aus b)\n",
    "\n",
    "Da das $x$ gerade dieses Kongruenzensystem per Definition löst, können wir einfach die Moduli berechnen und die Primärepräsentanten dieser Ergebnisse als $q_i$ angeben."
   ]
  },
  {
   "cell_type": "code",
   "execution_count": 33,
   "id": "b04e9fff",
   "metadata": {},
   "outputs": [
    {
     "data": {
      "text/plain": [
       "[1, 1, 2, 3, 19, 0, 4]"
      ]
     },
     "execution_count": 33,
     "metadata": {},
     "output_type": "execute_result"
    }
   ],
   "source": [
    "q = [x % p[i] for i in range(p.size)]\n",
    "q"
   ]
  },
  {
   "cell_type": "code",
   "execution_count": 34,
   "id": "889313ed",
   "metadata": {},
   "outputs": [
    {
     "data": {
      "text/plain": [
       "True"
      ]
     },
     "execution_count": 34,
     "metadata": {},
     "output_type": "execute_result"
    }
   ],
   "source": [
    "check_x(q, p, x)"
   ]
  },
  {
   "cell_type": "markdown",
   "id": "cf76562d",
   "metadata": {},
   "source": [
    "# 3.)"
   ]
  },
  {
   "cell_type": "markdown",
   "id": "ad2e585c",
   "metadata": {},
   "source": [
    "Es seien die *öffentlichen* RSA-Schlüssel $k_1 = (391, 3)$, $k_2 = (55, 3)$ und $k_3 = (1189, 3)$, sowie die *Chiffretexte* \n",
    "$c_1 = 133$, $c_2 = 48$, $c_3 = 659$ gegeben. \n",
    "Falls möglich, Hastads Angriff verwenden um den Klartext $m$ zu berechnen. Falls es nicht möglich ist, begründen."
   ]
  },
  {
   "cell_type": "markdown",
   "id": "eb60d66f",
   "metadata": {},
   "source": [
    "Wir haben 3 Chiffretext mit 3 öffentlichen Schlüsseln gegeben, insofern spricht nichts gegen den Hastad-Angriff.\n",
    "$a$ ist sogar gegeben als 3, der in allen Nachrichten den öffentlichen Exponenten darstellt."
   ]
  },
  {
   "cell_type": "code",
   "execution_count": 35,
   "id": "e28c82fb",
   "metadata": {},
   "outputs": [
    {
     "data": {
      "text/plain": [
       "(3,\n",
       " array([[ 391,    3],\n",
       "        [  55,    3],\n",
       "        [1189,    3]], dtype=int64),\n",
       " array([133,  48, 659], dtype=int64))"
      ]
     },
     "execution_count": 35,
     "metadata": {},
     "output_type": "execute_result"
    }
   ],
   "source": [
    "a = 3\n",
    "k = np.array([(391, 3), (55, 3), (1189, 3)], dtype=\"int64\")\n",
    "c = np.array([133, 48, 659], dtype=\"int64\")\n",
    "a, k, c"
   ]
  },
  {
   "cell_type": "code",
   "execution_count": 36,
   "id": "915ac625",
   "metadata": {},
   "outputs": [
    {
     "data": {
      "text/plain": [
       "array([ 391,   55, 1189], dtype=int64)"
      ]
     },
     "execution_count": 36,
     "metadata": {},
     "output_type": "execute_result"
    }
   ],
   "source": [
    "N = np.array([key[0] for key in k], dtype=\"int64\")\n",
    "N"
   ]
  },
  {
   "cell_type": "code",
   "execution_count": 37,
   "id": "14cb90e8",
   "metadata": {},
   "outputs": [],
   "source": [
    "# Check ggt(ni, nj) == 1, i != j\n",
    "def check_ggt_for_vector(n):\n",
    "    for i in range(len(n)):\n",
    "        for j in range(len(n)):\n",
    "            if i != j:\n",
    "                coprime = eea(n[i], n[j])[0] == 1\n",
    "                if not coprime: return False\n",
    "    return True"
   ]
  },
  {
   "cell_type": "code",
   "execution_count": 38,
   "id": "a88e077f",
   "metadata": {},
   "outputs": [
    {
     "data": {
      "text/plain": [
       "True"
      ]
     },
     "execution_count": 38,
     "metadata": {},
     "output_type": "execute_result"
    }
   ],
   "source": [
    "check_ggt_for_vector(N)"
   ]
  },
  {
   "cell_type": "code",
   "execution_count": 39,
   "id": "2b3d822f",
   "metadata": {},
   "outputs": [
    {
     "data": {
      "text/plain": [
       "25569445"
      ]
     },
     "execution_count": 39,
     "metadata": {},
     "output_type": "execute_result"
    }
   ],
   "source": [
    "N_prod = np.prod(N)\n",
    "N_prod"
   ]
  },
  {
   "cell_type": "markdown",
   "id": "6d4754a2",
   "metadata": {},
   "source": [
    "Wir können nun den chinesischen Restsatz anwenden, mit entsprechender Vorbereitung:"
   ]
  },
  {
   "cell_type": "code",
   "execution_count": 40,
   "id": "e4cc6bfc",
   "metadata": {},
   "outputs": [
    {
     "data": {
      "text/plain": [
       "array([ 65395, 464899,  21505], dtype=int64)"
      ]
     },
     "execution_count": 40,
     "metadata": {},
     "output_type": "execute_result"
    }
   ],
   "source": [
    "div_N = np.array([int(N_prod / N[i]) for i in range(N.size)], dtype=\"int64\")\n",
    "div_N"
   ]
  },
  {
   "cell_type": "code",
   "execution_count": 41,
   "id": "fe7f0fb0",
   "metadata": {},
   "outputs": [
    {
     "data": {
      "text/plain": [
       "array([  4,  24, 658], dtype=int64)"
      ]
     },
     "execution_count": 41,
     "metadata": {},
     "output_type": "execute_result"
    }
   ],
   "source": [
    "r_N = np.array([eea(div_N[i], N[i])[1] % N[i] for i in range(div_N.size)], dtype=\"int64\")\n",
    "r_N"
   ]
  },
  {
   "cell_type": "code",
   "execution_count": 42,
   "id": "075df081",
   "metadata": {},
   "outputs": [
    {
     "data": {
      "text/plain": [
       "19683"
      ]
     },
     "execution_count": 42,
     "metadata": {},
     "output_type": "execute_result"
    }
   ],
   "source": [
    "hastat_solution = chinese_div(r_N, div_N, c, N_prod)\n",
    "hastat_solution"
   ]
  },
  {
   "cell_type": "code",
   "execution_count": 43,
   "id": "431577f7",
   "metadata": {},
   "outputs": [
    {
     "data": {
      "text/plain": [
       "True"
      ]
     },
     "execution_count": 43,
     "metadata": {},
     "output_type": "execute_result"
    }
   ],
   "source": [
    "check_x(c, N, hastat_solution)"
   ]
  },
  {
   "cell_type": "code",
   "execution_count": 44,
   "id": "57d9640e",
   "metadata": {},
   "outputs": [
    {
     "data": {
      "text/plain": [
       "27"
      ]
     },
     "execution_count": 44,
     "metadata": {},
     "output_type": "execute_result"
    }
   ],
   "source": [
    "m = int(np.round(np.power(hastat_solution, (1/a))))\n",
    "m"
   ]
  },
  {
   "cell_type": "markdown",
   "id": "0ceb1a22",
   "metadata": {},
   "source": [
    "Wir kontrollieren das erhaltene $m = 27$:"
   ]
  },
  {
   "cell_type": "code",
   "execution_count": 45,
   "id": "66a9c360",
   "metadata": {},
   "outputs": [
    {
     "data": {
      "text/plain": [
       "True"
      ]
     },
     "execution_count": 45,
     "metadata": {},
     "output_type": "execute_result"
    }
   ],
   "source": [
    "gen_c = np.array([sqm(m, a, N[i]) for i in range(N.size)])\n",
    "np.array_equal(gen_c, c) "
   ]
  }
 ],
 "metadata": {
  "kernelspec": {
   "display_name": "Python 3 (ipykernel)",
   "language": "python",
   "name": "python3"
  },
  "language_info": {
   "codemirror_mode": {
    "name": "ipython",
    "version": 3
   },
   "file_extension": ".py",
   "mimetype": "text/x-python",
   "name": "python",
   "nbconvert_exporter": "python",
   "pygments_lexer": "ipython3",
   "version": "3.8.12"
  }
 },
 "nbformat": 4,
 "nbformat_minor": 5
}
