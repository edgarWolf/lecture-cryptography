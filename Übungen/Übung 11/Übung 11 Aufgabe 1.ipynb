{
 "cells": [
  {
   "cell_type": "markdown",
   "id": "ce0e71a8",
   "metadata": {},
   "source": [
    "Es sei n = 13379.\n",
    "Es gilt: \n",
    "- $ n \\; \\% \\; 6 = 5$\n",
    "- $ n \\; \\% \\; 7 = 2$\n",
    "- $ n \\; \\% \\; 9 = 5$\n",
    "- $ n \\; \\% \\; 11 = 3$\n",
    "- $ n \\; \\% \\; 13 = 2$\n",
    "\n",
    "Zu berechnen: $n^5 \\; \\% \\; 30030$ ohne Taschenrechner etc. \n",
    "Primfaktorzerlegung von $30030$: $ 2 \\cdot 3 \\cdot 5 \\cdot 7 \\cdot 11 \\cdot 13 $ \n",
    "Folgende Tabelle dient als Referenz:\n",
    "\n",
    "| a | b | c | d | e | $$f_{5,6,7,11,13}^{CR}(a, b, c, d, e)$$ |\n",
    "| - | - | - | - | - | :- |\n",
    "| 1 | 5 | 4 | 6 | 12 | 15131 |\n",
    "| 1 | 5 | 3 | 2 | 9 | 23201 |\n",
    "| 3 | 1 | 6 | 2 | 10 | 9253 |\n",
    "| 2 | 1 | 2 | 10 |  1 | 29017\n",
    "| 4 | 5 | 4 | 1 | 6 | 29789\n",
    "| 4 | 1 | 1 | 3 | 3 | 4579\n",
    "| 2 | 5 | 1 | 5 | 6 | 6077\n",
    "| 4 | 1 | 2 | 8 | 8 | 26749\n",
    "| 3 | 5 | 5 | 9 | 3 | 9623\n",
    "\n",
    "Wir verwenden wieder den zugrundeliegenden Isomorphismus des chinesischen Restsatz, wie in den Übungsaufgaben zuvor:\n",
    "Wir brauchen aber noch die Kongruenz $\\mod 5 $: Diese ist aber trivial zu berechnen: $ n \\; \\% \\; 5 = 4 $.\n",
    "Wir erhalten also als Argumente für den chinesischen Restsatz die folgenden Kongruenz-Ergebnisse (siehe unterer Code):"
   ]
  },
  {
   "cell_type": "code",
   "execution_count": 1,
   "id": "f70f520a",
   "metadata": {},
   "outputs": [],
   "source": [
    "def sqm(x, y, m):\n",
    "    if y == 0:\n",
    "        return 1\n",
    "    if y % 2 != 0:\n",
    "        a = sqm(x, y-1, m)\n",
    "        return (a * x) % m\n",
    "    if y % 2 == 0:\n",
    "        a = sqm(x, y/2, m)\n",
    "        return (a * a) % m"
   ]
  },
  {
   "cell_type": "code",
   "execution_count": 2,
   "id": "b20842ea",
   "metadata": {},
   "outputs": [
    {
     "data": {
      "text/plain": [
       "(4, 1, 6, 4, 5)"
      ]
     },
     "execution_count": 2,
     "metadata": {},
     "output_type": "execute_result"
    }
   ],
   "source": [
    "# n % 7, n % 11, n % 13, n % 5, n % 6\n",
    "sqm(2, 5, 7), sqm(3, 5, 11), sqm(2, 5, 13), sqm(4, 5, 5), sqm(5, 5, 6)"
   ]
  },
  {
   "cell_type": "markdown",
   "id": "2907582e",
   "metadata": {},
   "source": [
    "Die Rechnung kann mit dem Algorithmus des SqM kann auch hier im Kopf erfolgen.\n",
    "Dazu das Beispiel $2^5 \\; \\% \\; 7$: \n",
    "\n",
    "\\begin{align*}\n",
    "2^5 \\; \\% \\; 7 &=  2^3 \\; \\% \\; 7 \\cdot 2^2 \\; \\% \\; 7 \\\\\n",
    "&= 8 \\; \\% \\; 7 \\cdot 4 \\; \\% \\; 7 \\\\\n",
    "&= 1 \\; \\% \\; 7 \\cdot 4 \\; \\% \\; 7 \\\\\n",
    "&= 4 \\; \\% \\; 7 = 4\n",
    "\\end{align*}\n",
    "\n",
    "Anhand der Referenztabelle kann nun das Ergebnis abgelesen werden:\n",
    "$f_{5,6,7,11,13}^{CR}(4, 5, 4, 1, 6) = 29789 $"
   ]
  }
 ],
 "metadata": {
  "kernelspec": {
   "display_name": "Python 3 (ipykernel)",
   "language": "python",
   "name": "python3"
  },
  "language_info": {
   "codemirror_mode": {
    "name": "ipython",
    "version": 3
   },
   "file_extension": ".py",
   "mimetype": "text/x-python",
   "name": "python",
   "nbconvert_exporter": "python",
   "pygments_lexer": "ipython3",
   "version": "3.8.12"
  }
 },
 "nbformat": 4,
 "nbformat_minor": 5
}
