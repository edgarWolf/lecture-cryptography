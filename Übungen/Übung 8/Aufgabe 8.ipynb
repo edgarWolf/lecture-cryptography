{
 "cells": [
  {
   "cell_type": "markdown",
   "id": "a982d8c4",
   "metadata": {},
   "source": [
    "# 1.)\n",
    "Es sei eine Modifikation des CBC-Modus mit einem Counter:\n",
    "Der Unterschied zum normalen CBC besteht darin, dass statt dem ausgewürfelten $ c_0 $ ein Counter $ ctr $ verwendet\n",
    "wird. Dieser Counter wird bei für die erste zu verschlüsselnde Nachricht mit 0 initialisiert und für jede weitere\n",
    "inkrementiert.\n",
    "\n",
    "Warum ist dieser Betriebsmodus nicht RoR-sicher?\n"
   ]
  },
  {
   "cell_type": "markdown",
   "id": "9dcf4053",
   "metadata": {},
   "source": [
    "## Antwort: \n",
    "Setze $ ctr \\oplus m_1 = 0 $, also $ ctr = m_1 $. Betrachte $ c_1 $ ; $ ctr $ wird inkrementiert pro Runde. \n",
    "Wenn nun also $ c_1 $ bei jedem 0-Vektor (also jedem Wert für $ ctr $) immer gleich ist, so wird es sich wahrscheinlich um keine Zufallspermutation handeln. \n",
    "Dadurch kann der Angreifer Rückschlüsse auf die Verschlüsselung ziehen, und somit ist $ \\epsilon \\gt 0 $. "
   ]
  },
  {
   "cell_type": "markdown",
   "id": "1bfae2e5",
   "metadata": {},
   "source": [
    "# 2.)\n",
    "Es sei eine Blockchiffre mit einer Blockgröße von $ 100 $ Bits gegeben. Wie viele Blöcke sollten im Counter-Modus\n",
    "unter Verwendung eines einzigen Schlüssels maximal verschlüsselt werden, damit das Verfahren RoR-sicher bleibt?\n",
    "Wie viele TB an Daten sind das?\n"
   ]
  },
  {
   "cell_type": "markdown",
   "id": "f40520ab",
   "metadata": {},
   "source": [
    "## Antwort:\n",
    "Es gilt: \n",
    "\n",
    "> *Für ein Blockchiffre-Verfahren mit Blockgröße n im CTR-Modus gilt:\n",
    "Ist die insgesamt zu verschlüsselnde Datenmenge viel kleiner als\n",
    "$ n \\cdot 2^{n/2} $ Bit\n",
    "dann ist das Verfahren RoR-sicher, wenn die Nebenbedingung\n",
    "eingehalten wird.*\n",
    "\n",
    "Bei einer Blockgröße von $ 100 $ Bit erhalten wir $ 2^{100} $ mögliche Werte.\n",
    "Also gilt:\n",
    "$$\n",
    "n \\cdot 2^{n/2} = 100 \\cdot 2^{100/2} = 100 \\cdot 2^{50} \\text{ Bit }\n",
    "$$\n",
    "\n",
    "Wir erhalten also eine maximale Anzahl von $ 2^{50} $ Blöcken.\n",
    "Eine weitere Berechnung ergibt: \n",
    "\n",
    "$$\n",
    "100 \\cdot 2^{40} \\cdot 2^{10} \\text{Bit} = 100 \\cdot 2^7 \\cdot 2^{40} \\text{Byte} = 100 \\cdot 128 \\text{ TB } = 12.800 \\text{ TB }\n",
    "$$\n",
    "\n",
    "Die Datenmenge muss demzufolge wesentlich kleiner als $ 12.800 $ TB sein."
   ]
  },
  {
   "cell_type": "markdown",
   "id": "40f16efd",
   "metadata": {},
   "source": [
    "# 3.)\n",
    "Wenn zehn Milliarden Computer über 50 Jahre jede Sekunde 10 Milliarden Zufallswerte mit je 256 Bits auswürfeln\n",
    "(zufällig gleichverteilt), wie groß ist dann die Wahrscheinlichkeit $ P $ ungefähr, dass in der ganzen Zeit zwei mal der\n",
    "selbe Wert ausgewürfelt wird? Geben Sie Ihr Ergebnis als $ c \\in \\mathbb{N} $ an, so dass  $ P ≈ 2^{−c} $.\n",
    "\n",
    "Um die Aufgabe zu lösen, muss man mit sehr großen Zahlen umgehen, so dass ein direktes Ausrechnen sehr schwierig wird. Sie können die großen Zahlen umgehen wenn Sie folgenden Sachverhalt verwenden. Die Exponentialfunktion $ e^x $ ist für alle  $ x ∈ \\mathbb{R} $ wie folgt definiert:\n",
    "$$\n",
    "e^x = \\sum_{i=0}^{\\infty}\\frac{x^i}{i!}= 1 + x + \\frac{x^2}{2!} + · · · \\\\\n",
    "\\text{ Ist } |x|  \\text{ viel kleiner als 1, gilt daher : } \\\\\n",
    "e^x ≈ 1 + x\n",
    "$$"
   ]
  },
  {
   "cell_type": "markdown",
   "id": "e0a08670",
   "metadata": {},
   "source": [
    "## Antwort:\n",
    "Wir haben also $ 10^{10} $ Computer und $ 10^{10} $ Zufallswerte pro Sekunde über 50 Jahre bei $ 2^{256} $ verschiedenen möglichen Werte.\n",
    "Die Aufgabe basiert auf der Modellierung des Geburtstagsparadoxon. Dabei bezeichne \n",
    "$$\n",
    "p_k(n) = \\prod_{0 \\leq i \\lt n} \\frac{k - i}{k}\n",
    "$$\n",
    "die Wahrscheinlichkeit für keine Kollision bei $ k $ möglichen Werten $ n $ beobachteten Werten.\n",
    "Demzufolge ist die Wahrscheinlichkeit für eine Kollision\n",
    "$$\n",
    "\\lnot p_k(n) = 1 - p_k(n) = 1 - \\prod_{0 \\leq i \\lt n} \\frac{k - i}{k}\n",
    "$$\n",
    "\n",
    "Zunächst berechnen wir die Anzahl der ingesamt gewürfelten Zufallswerte: \n",
    "\n",
    "$$\n",
    "\\text{Zeit in Sekunden: } T = 50 * 365 * 24 * 3600 = 1,5678 \\cdot 10^{9} s \n",
    "$$\n",
    "\n",
    "Wir gehen vereinfachend von 365 Tagen pro Jahr aus.\n",
    "Das bedeutet für die Gesamtheit der Computer: \n",
    "\n",
    "$$\n",
    "10^{10} \\cdot 10^{10} \\cdot 1,5678 \\cdot 10^{9} = 1,5678 \\cdot 10^{29} \\text{ Zufallswerte }\n",
    "$$\n",
    "\n",
    "Wir setzen entsprechend der Formel oben definierten Formel für keine Kollision $ k = 2^{256} $ und $ n = 1,5678 \\cdot 10^{29} $.\n",
    "\n",
    "Zusätzlich formen wir die Formel um, um anschließend die Approximation für $ e^x $ benutzen zu können.\n",
    "\n",
    "$$\n",
    "\\lnot p_k(n) = 1 - p_k(n) = 1 - \\prod_{0 \\leq i \\lt n} \\frac{k - i}{k} = 1 - \\prod_{i=0}^{n-1} 1 - \\frac{i}{k}\n",
    "$$\n",
    "\n",
    "Der Ausdruck $ \\frac{i}{k} $ wird für $ k = 2^{256} $ und $ i = \\{0, 1, ..., n - 1 \\} $ sehr klein. Damit können wir die Umformung mittels der Approximation von $ e^x $ nutzen:\n",
    "\n",
    "$$\n",
    "\\prod_{i=0}^{n-1} = 1 - \\frac{i}{k} = \\prod_{i=0}^{n-1}e^{-i/k} = exp\\left(\\sum_{i=0}^{n-1}-\\frac{i}{k}\\right) = exp\\left(-\\frac{1}{k} \\cdot \\sum_{i=0}^{n-1}i\\right) = exp\\left(-\\frac{1}{k} \\cdot \\frac{(n-1)n}{2}\\right) \\\\\n",
    "\\Rightarrow \\lnot p_k(n) = 1 - p_k(n) =  1 - e^{ -\\frac{1}{k} \\cdot \\frac{(n-1)n}{2} } = 1 - e^{\\frac{(n-1)n}{2k}} = 1 - e^{\\frac{n^2-n}{2k}}\n",
    "$$\n",
    "\n",
    "Der Ausdruck $  \\frac{n^2-n}{2k} $ erfüllt ebenfalls die Bedingung für die Approximation von $ e^x $, wir können also resubstituieren:\n",
    "\n",
    "$$\n",
    "\\frac{n^2-n}{2k} = \\frac{(n-1)n}{2k} ≈ \\frac{(n^2}{2k}\n",
    "$$\n",
    "\n",
    "Wir setzen nun unsere eingangs ermittelten Werte ein: \n",
    "\n",
    "$$\n",
    "\\frac{(2^{97})^2}{2 \\cdot 2^{256}} = \\frac{2^{194}}{2^{257}}\n",
    "$$\n",
    "\n",
    "Um das $ c \\in \\mathbb{N} $ zu finden, dass die Voraussetzung erfüllt müssen wir den Logarithmus des Wertes berechnen:\n",
    "\n",
    "$$\n",
    "c = log_2\\left(\\frac{2^{194}}{2^{257}} \\right) = log_2\\left(2^{194}\\right) - log_2\\left(2^{257}\\right) = 194 - 257 = -63 \\\\\n",
    "P ≈ 2^{-63} ≈ 0\n",
    "$$\n",
    "\n",
    "Die Wahrscheinlichkeit für eine Kollision geht also gegen 0."
   ]
  }
 ],
 "metadata": {
  "kernelspec": {
   "display_name": "Python 3 (ipykernel)",
   "language": "python",
   "name": "python3"
  },
  "language_info": {
   "codemirror_mode": {
    "name": "ipython",
    "version": 3
   },
   "file_extension": ".py",
   "mimetype": "text/x-python",
   "name": "python",
   "nbconvert_exporter": "python",
   "pygments_lexer": "ipython3",
   "version": "3.8.12"
  }
 },
 "nbformat": 4,
 "nbformat_minor": 5
}
