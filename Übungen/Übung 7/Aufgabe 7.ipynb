{
 "cells": [
  {
   "cell_type": "markdown",
   "id": "b211aaf8-c22c-4a65-a8f6-82ce34470db4",
   "metadata": {},
   "source": [
    "# 1.)\n",
    "Geben Sie die inverse Funktion $ sbox^{−1} $\n",
    "zu der in AES verwendeten sbox-Funktion an! Falls zur Berechnung\n",
    "von $ sbox{−1} $ konstante Elemente verwendet werden, geben Sie diese bitte mit an und Begründen Sie, warum die\n",
    "Berechnung von $ sbox^{−1} $\n",
    "so wie von Ihnen angegeben funktioniert!"
   ]
  },
  {
   "cell_type": "markdown",
   "id": "9b020421-5694-4ea4-b3d5-7055dc7fcad5",
   "metadata": {},
   "source": [
    "Wir formulieren die inverse Funktion $ sbox^{-1} $ als:\n",
    "$$\n",
    "sbox(s)^{-1} = (A^{-1} \\cdot (s + c))^{-1}\n",
    "$$\n",
    "\n",
    "Die Berechnung der Inversen Matrix über $ GF(2) $ kann dabei mittels des erweiterten euklidischen Algorithmus erreicht werden.\n",
    "Dies kann leicht überprüft werden:\n",
    "\n",
    "$$\n",
    "\\text{Sei } f := sbox(s)^{-1} \\\\\n",
    "f(sbox(b))= f\\left(A \\cdot b^{-1} + c\\right) = \\left(A^{-1} \\cdot \\left(A \\cdot b^{-1} + c \\right) + c\\right)^{-1} = \\left(A^{-1} \\cdot A \\cdot b^{-1}\\right)^{-1} = \\left(E \\cdot b^{-1}\\right)^{-1} = b\n",
    "$$"
   ]
  },
  {
   "cell_type": "markdown",
   "id": "ffdb6db3-7965-4fba-b493-6c884b6dbe40",
   "metadata": {},
   "source": [
    "# 2.)\n",
    "Beschreiben Sie inverse Operationen zu den Rundenoperationen der AES-Runden! Sollten dabei Konstante Objekte\n",
    "(Zahlen, Vektoren, Polynome, Matrizen, . . . ) verwendet werden, berechnen Sie diese und begründen Sie, warum mit\n",
    "ihrer Hilfe die Operationen umgekehrt werden können"
   ]
  },
  {
   "cell_type": "markdown",
   "id": "7b4ee7a0-f5b9-407a-bfb8-829c1e70f280",
   "metadata": {},
   "source": [
    "1. $ sbox $ durch $ sbox^{-1} $ ersetzen.\n",
    "2. $ +i $ anstelle von $ -i $ in der Berechnung einsetzen.\n",
    "3. $ P^{-1} $ berechnen und die Chiffre-Matrix mit dieser multiplizieren.\n",
    "4. Keine Änderung nötig, denn XOR ist invers zu sich selbst."
   ]
  },
  {
   "cell_type": "markdown",
   "id": "d429e54b-db4c-4d5a-8d44-8b158f3c36f9",
   "metadata": {},
   "source": [
    "# 3.)\n",
    "Geben Sie einen Algorithmus zur AES-Entschlüsselung an! Verwenden Sie dabei Ihre Ergebnisse aus den obigen\n",
    "Aufgaben."
   ]
  },
  {
   "cell_type": "markdown",
   "id": "4e026e6e-3db5-4b42-b11b-59009ce9179d",
   "metadata": {},
   "source": [
    "Der Algorithmus ergibt sich durch eine Durchführung des Verschlüsselungsalgorithmus in umgekehrter Reihenfolge, mit den inversen Operationen wie in 2.) dargestellt."
   ]
  },
  {
   "cell_type": "code",
   "execution_count": null,
   "id": "a50f2a68-dffa-4b46-890e-5e8a9a5ed8b1",
   "metadata": {},
   "outputs": [],
   "source": []
  }
 ],
 "metadata": {
  "kernelspec": {
   "display_name": "Python 3 (ipykernel)",
   "language": "python",
   "name": "python3"
  },
  "language_info": {
   "codemirror_mode": {
    "name": "ipython",
    "version": 3
   },
   "file_extension": ".py",
   "mimetype": "text/x-python",
   "name": "python",
   "nbconvert_exporter": "python",
   "pygments_lexer": "ipython3",
   "version": "3.8.12"
  }
 },
 "nbformat": 4,
 "nbformat_minor": 5
}
